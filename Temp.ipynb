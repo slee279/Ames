{
 "cells": [
  {
   "cell_type": "code",
   "execution_count": 39,
   "metadata": {},
   "outputs": [],
   "source": [
    "import pandas as pd\n",
    "import seaborn as sns\n",
    "import numpy as np\n",
    "from sklearn.linear_model import LinearRegression, Ridge, Lasso, RandomizedLasso\n",
    "from sklearn.preprocessing import StandardScaler, PolynomialFeatures, MinMaxScaler\n",
    "from sklearn.metrics import mean_squared_error\n",
    "from sklearn.ensemble import RandomForestRegressor\n",
    "from sklearn.metrics import r2_score\n",
    "from sklearn.model_selection import train_test_split, cross_val_score\n",
    "from sklearn.preprocessing import StandardScaler\n",
    "from sklearn.feature_selection import SelectKBest, f_regression, RFE"
   ]
  },
  {
   "cell_type": "code",
   "execution_count": 40,
   "metadata": {},
   "outputs": [],
   "source": [
    "# loading datasets\n",
    "train = pd.read_csv('./train.csv')\n",
    "test = pd.read_csv('./test.csv')"
   ]
  },
  {
   "cell_type": "code",
   "execution_count": 41,
   "metadata": {},
   "outputs": [],
   "source": [
    "# get numerical columns\n",
    "\n",
    "# drop unnecessary columns 'Id', 'PID'\n",
    "# drop target column 'SalePrice'\n",
    "numerical_features = list(train._get_numeric_data().drop(['Id', 'PID', 'SalePrice'], axis=1))\n",
    "features = numerical_features\n",
    "\n",
    "# replace missing numerical values with -999\n",
    "for feature in numerical_features:\n",
    "    train[feature] = train[feature].fillna(-999)\n",
    "    test[feature] = test[feature].fillna(-999)\n",
    "    \n",
    "# First extract the target variable which is our House prices\n",
    "Y = train['SalePrice']\n",
    "# Drop price from the house dataframe and create a matrix out of the house data\n",
    "train = train[features]\n",
    "X = train.values\n",
    "# Store the column/feature names into a list \"colnames\"\n",
    "colnames = train.columns"
   ]
  },
  {
   "cell_type": "code",
   "execution_count": 42,
   "metadata": {},
   "outputs": [],
   "source": [
    "# Define dictionary to store our rankings\n",
    "ranks = {}\n",
    "# Create our function which stores the feature rankings to the ranks dictionary\n",
    "def ranking(ranks, names, order=1):\n",
    "    minmax = MinMaxScaler()\n",
    "    ranks = minmax.fit_transform(order*np.array([ranks]).T).T[0]\n",
    "    ranks = map(lambda x: round(x,2), ranks)\n",
    "    return dict(zip(names, ranks))"
   ]
  },
  {
   "cell_type": "code",
   "execution_count": 43,
   "metadata": {},
   "outputs": [
    {
     "name": "stderr",
     "output_type": "stream",
     "text": [
      "/anaconda3/lib/python3.6/site-packages/sklearn/utils/deprecation.py:58: DeprecationWarning: Class RandomizedLasso is deprecated; The class RandomizedLasso is deprecated in 0.19 and will be removed in 0.21.\n",
      "  warnings.warn(msg, category=DeprecationWarning)\n"
     ]
    },
    {
     "name": "stdout",
     "output_type": "stream",
     "text": [
      "finished\n"
     ]
    }
   ],
   "source": [
    "# Finally let's run our Selection Stability method with Randomized Lasso\n",
    "rlasso = RandomizedLasso(alpha=0.04)\n",
    "rlasso.fit(X, Y)\n",
    "ranks[\"rlasso/Stability\"] = ranking(np.abs(rlasso.scores_), colnames)\n",
    "print('finished')"
   ]
  },
  {
   "cell_type": "code",
   "execution_count": 44,
   "metadata": {},
   "outputs": [
    {
     "name": "stdout",
     "output_type": "stream",
     "text": [
      "Fitting estimator with 36 features.\n",
      "Fitting estimator with 35 features.\n",
      "Fitting estimator with 34 features.\n",
      "Fitting estimator with 33 features.\n",
      "Fitting estimator with 32 features.\n",
      "Fitting estimator with 31 features.\n",
      "Fitting estimator with 30 features.\n",
      "Fitting estimator with 29 features.\n",
      "Fitting estimator with 28 features.\n",
      "Fitting estimator with 27 features.\n",
      "Fitting estimator with 26 features.\n",
      "Fitting estimator with 25 features.\n",
      "Fitting estimator with 24 features.\n",
      "Fitting estimator with 23 features.\n",
      "Fitting estimator with 22 features.\n",
      "Fitting estimator with 21 features.\n",
      "Fitting estimator with 20 features.\n",
      "Fitting estimator with 19 features.\n",
      "Fitting estimator with 18 features.\n",
      "Fitting estimator with 17 features.\n",
      "Fitting estimator with 16 features.\n",
      "Fitting estimator with 15 features.\n",
      "Fitting estimator with 14 features.\n",
      "Fitting estimator with 13 features.\n",
      "Fitting estimator with 12 features.\n",
      "Fitting estimator with 11 features.\n",
      "Fitting estimator with 10 features.\n",
      "Fitting estimator with 9 features.\n",
      "Fitting estimator with 8 features.\n",
      "Fitting estimator with 7 features.\n",
      "Fitting estimator with 6 features.\n",
      "Fitting estimator with 5 features.\n",
      "Fitting estimator with 4 features.\n",
      "Fitting estimator with 3 features.\n",
      "Fitting estimator with 2 features.\n"
     ]
    }
   ],
   "source": [
    "# Construct our Linear Regression model\n",
    "lr = LinearRegression(normalize=True)\n",
    "lr.fit(X,Y)\n",
    "#stop the search when only the last feature is left\n",
    "rfe = RFE(lr, n_features_to_select=1, verbose =3 )\n",
    "rfe.fit(X,Y)\n",
    "ranks[\"RFE\"] = ranking(list(map(float, rfe.ranking_)), colnames, order=-1)"
   ]
  },
  {
   "cell_type": "code",
   "execution_count": 45,
   "metadata": {},
   "outputs": [
    {
     "name": "stderr",
     "output_type": "stream",
     "text": [
      "/anaconda3/lib/python3.6/site-packages/sklearn/linear_model/coordinate_descent.py:491: ConvergenceWarning: Objective did not converge. You might want to increase the number of iterations. Fitting data with very small alpha may cause precision problems.\n",
      "  ConvergenceWarning)\n"
     ]
    }
   ],
   "source": [
    "# Using Linear Regression\n",
    "lr = LinearRegression(normalize=True)\n",
    "lr.fit(X,Y)\n",
    "ranks[\"LinReg\"] = ranking(np.abs(lr.coef_), colnames)\n",
    "\n",
    "# Using Ridge \n",
    "ridge = Ridge(alpha = 7)\n",
    "ridge.fit(X,Y)\n",
    "ranks['Ridge'] = ranking(np.abs(ridge.coef_), colnames)\n",
    "\n",
    "# Using Lasso\n",
    "lasso = Lasso(alpha=.05)\n",
    "lasso.fit(X, Y)\n",
    "ranks[\"Lasso\"] = ranking(np.abs(lasso.coef_), colnames)"
   ]
  },
  {
   "cell_type": "code",
   "execution_count": 46,
   "metadata": {},
   "outputs": [
    {
     "name": "stdout",
     "output_type": "stream",
     "text": [
      "building tree 1 of 50building tree 2 of 50building tree 3 of 50building tree 4 of 50building tree 5 of 50building tree 6 of 50building tree 7 of 50building tree 8 of 50\n",
      "\n",
      "\n",
      "\n",
      "\n",
      "\n",
      "\n",
      "\n",
      "building tree 9 of 50\n",
      "building tree 10 of 50\n",
      "building tree 11 of 50\n",
      "building tree 12 of 50\n",
      "building tree 13 of 50building tree 14 of 50\n",
      "\n",
      "building tree 15 of 50\n",
      "building tree 16 of 50\n",
      "building tree 17 of 50\n",
      "building tree 18 of 50\n",
      "building tree 19 of 50\n",
      "building tree 20 of 50\n",
      "building tree 21 of 50\n",
      "building tree 22 of 50\n",
      "building tree 23 of 50\n",
      "building tree 24 of 50\n",
      "building tree 25 of 50\n",
      "building tree 26 of 50\n",
      "building tree 27 of 50\n",
      "building tree 28 of 50building tree 29 of 50\n",
      "\n",
      "building tree 30 of 50building tree 31 of 50\n",
      "\n",
      "building tree 32 of 50\n",
      "building tree 33 of 50\n",
      "building tree 34 of 50building tree 35 of 50\n",
      "\n",
      "building tree 36 of 50building tree 37 of 50\n",
      "\n",
      "building tree 38 of 50building tree 39 of 50\n",
      "\n",
      "building tree 40 of 50\n",
      "building tree 41 of 50\n",
      "building tree 42 of 50building tree 43 of 50\n",
      "\n"
     ]
    },
    {
     "name": "stderr",
     "output_type": "stream",
     "text": [
      "[Parallel(n_jobs=-1)]: Done  16 tasks      | elapsed:    0.1s\n",
      "[Parallel(n_jobs=-1)]: Done  50 out of  50 | elapsed:    0.3s finished\n"
     ]
    },
    {
     "name": "stdout",
     "output_type": "stream",
     "text": [
      "building tree 44 of 50\n",
      "building tree 45 of 50\n",
      "building tree 46 of 50\n",
      "building tree 47 of 50\n",
      "building tree 48 of 50\n",
      "building tree 49 of 50\n",
      "building tree 50 of 50\n"
     ]
    }
   ],
   "source": [
    "rf = RandomForestRegressor(n_jobs=-1, n_estimators=50, verbose=3)\n",
    "rf.fit(X,Y)\n",
    "ranks[\"RF\"] = ranking(rf.feature_importances_, colnames);"
   ]
  },
  {
   "cell_type": "code",
   "execution_count": 47,
   "metadata": {},
   "outputs": [
    {
     "name": "stdout",
     "output_type": "stream",
     "text": [
      "\tLasso\tLinReg\tRF\tRFE\tRidge\trlasso/Stability\tMean\n",
      "MS SubClass\t0.01\t0.0\t0.0\t0.63\t0.01\t1.0\t0.27\n",
      "Lot Frontage\t0.0\t0.0\t0.01\t0.03\t0.0\t1.0\t0.17\n",
      "Lot Area\t0.0\t0.0\t0.04\t0.0\t0.0\t1.0\t0.17\n",
      "Overall Qual\t1.0\t0.0\t1.0\t1.0\t1.0\t1.0\t0.83\n",
      "Overall Cond\t0.2\t0.0\t0.01\t0.71\t0.21\t1.0\t0.36\n",
      "Year Built\t0.02\t0.0\t0.02\t0.69\t0.02\t1.0\t0.29\n",
      "Year Remod/Add\t0.01\t0.0\t0.02\t0.6\t0.01\t1.0\t0.27\n",
      "Mas Vnr Area\t0.0\t0.0\t0.01\t0.4\t0.0\t1.0\t0.24\n",
      "BsmtFin SF 1\t0.0\t0.0\t0.03\t0.11\t0.0\t0.98\t0.19\n",
      "BsmtFin SF 2\t0.0\t0.0\t0.0\t0.17\t0.0\t0.91\t0.18\n",
      "Bsmt Unf SF\t0.0\t0.0\t0.01\t0.23\t0.0\t0.6\t0.14\n",
      "Total Bsmt SF\t0.0\t0.0\t0.06\t0.26\t0.0\t0.98\t0.22\n",
      "1st Flr SF\t0.0\t1.0\t0.05\t0.51\t0.0\t0.88\t0.41\n",
      "2nd Flr SF\t0.0\t1.0\t0.01\t0.49\t0.0\t0.0\t0.25\n",
      "Low Qual Fin SF\t0.0\t1.0\t0.0\t0.14\t0.0\t1.0\t0.36\n",
      "Gr Liv Area\t0.0\t1.0\t0.18\t0.29\t0.0\t0.85\t0.39\n",
      "Bsmt Full Bath\t0.07\t0.0\t0.0\t0.89\t0.31\t1.0\t0.38\n",
      "Bsmt Half Bath\t0.07\t0.0\t0.0\t0.91\t0.31\t0.97\t0.38\n",
      "Full Bath\t0.13\t0.0\t0.01\t0.97\t0.15\t0.99\t0.37\n",
      "Half Bath\t0.02\t0.0\t0.0\t0.77\t0.01\t0.99\t0.3\n",
      "Bedroom AbvGr\t0.44\t0.0\t0.0\t0.8\t0.43\t1.0\t0.44\n",
      "Kitchen AbvGr\t0.69\t0.0\t0.0\t0.86\t0.69\t1.0\t0.54\n",
      "TotRms AbvGrd\t0.26\t0.0\t0.01\t0.83\t0.25\t1.0\t0.39\n",
      "Fireplaces\t0.27\t0.0\t0.01\t0.94\t0.28\t1.0\t0.42\n",
      "Garage Yr Blt\t0.0\t0.0\t0.01\t0.09\t0.0\t1.0\t0.18\n",
      "Garage Cars\t0.0\t0.0\t0.02\t0.46\t0.0\t0.99\t0.24\n",
      "Garage Area\t0.0\t0.0\t0.02\t0.43\t0.0\t1.0\t0.24\n",
      "Wood Deck SF\t0.0\t0.0\t0.01\t0.34\t0.0\t1.0\t0.22\n",
      "Open Porch SF\t0.0\t0.0\t0.01\t0.06\t0.0\t0.99\t0.18\n",
      "Enclosed Porch\t0.0\t0.0\t0.0\t0.31\t0.0\t1.0\t0.22\n",
      "3Ssn Porch\t0.0\t0.0\t0.0\t0.37\t0.0\t1.0\t0.23\n",
      "Screen Porch\t0.0\t0.0\t0.0\t0.57\t0.0\t1.0\t0.26\n",
      "Pool Area\t0.01\t0.0\t0.0\t0.54\t0.01\t1.0\t0.26\n",
      "Misc Val\t0.0\t0.0\t0.0\t0.2\t0.0\t1.0\t0.2\n",
      "Mo Sold\t0.02\t0.0\t0.01\t0.66\t0.02\t1.0\t0.29\n",
      "Yr Sold\t0.04\t0.0\t0.0\t0.74\t0.04\t1.0\t0.3\n"
     ]
    }
   ],
   "source": [
    "# Create empty dictionary to store the mean value calculated from all the scores\n",
    "r = {}\n",
    "for name in colnames:\n",
    "    r[name] = round(np.mean([ranks[method][name] \n",
    "                             for method in ranks.keys()]), 2)\n",
    " \n",
    "methods = sorted(ranks.keys())\n",
    "ranks[\"Mean\"] = r\n",
    "methods.append(\"Mean\")\n",
    " \n",
    "print(\"\\t%s\" % \"\\t\".join(methods))\n",
    "for name in colnames:\n",
    "    print(\"%s\\t%s\" % (name, \"\\t\".join(map(str, \n",
    "                         [ranks[method][name] for method in methods]))))"
   ]
  },
  {
   "cell_type": "code",
   "execution_count": 48,
   "metadata": {},
   "outputs": [],
   "source": [
    "# Put the mean scores into a Pandas dataframe\n",
    "meanplot = pd.DataFrame(list(r.items()), columns= ['Feature','Mean Ranking'])\n",
    "\n",
    "# Sort the dataframe\n",
    "meanplot = meanplot.sort_values('Mean Ranking', ascending=False)"
   ]
  },
  {
   "cell_type": "code",
   "execution_count": 49,
   "metadata": {},
   "outputs": [
    {
     "data": {
      "text/plain": [
       "<seaborn.axisgrid.FacetGrid at 0x1a149d1400>"
      ]
     },
     "execution_count": 49,
     "metadata": {},
     "output_type": "execute_result"
    },
    {
     "data": {
      "image/png": "[encoded data removed]",
      "text/plain": [
       "<Figure size 1915.2x1008 with 1 Axes>"
      ]
     },
     "metadata": {},
     "output_type": "display_data"
    }
   ],
   "source": [
    "# Let's plot the ranking of the features\n",
    "sns.factorplot(x=\"Mean Ranking\", y=\"Feature\", data = meanplot, kind=\"bar\", \n",
    "               size=14, aspect=1.9, palette='coolwarm')"
   ]
  },
  {
   "cell_type": "code",
   "execution_count": null,
   "metadata": {},
   "outputs": [],
   "source": []
  }
 ],
 "metadata": {
  "kernelspec": {
   "display_name": "Python 3",
   "language": "python",
   "name": "python3"
  },
  "language_info": {
   "codemirror_mode": {
    "name": "ipython",
    "version": 3
   },
   "file_extension": ".py",
   "mimetype": "text/x-python",
   "name": "python",
   "nbconvert_exporter": "python",
   "pygments_lexer": "ipython3",
   "version": "3.6.5"
  }
 },
 "nbformat": 4,
 "nbformat_minor": 2
}
