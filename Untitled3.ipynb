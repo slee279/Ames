{
 "cells": [
  {
   "cell_type": "code",
   "execution_count": 1,
   "metadata": {},
   "outputs": [],
   "source": [
    "import pandas as pd\n",
    "import seaborn as sns\n",
    "from sklearn.linear_model import LinearRegression\n",
    "from sklearn.preprocessing import StandardScaler, PolynomialFeatures\n",
    "from sklearn.metrics import mean_squared_error\n",
    "from sklearn.ensemble import RandomForestRegressor\n",
    "from sklearn.metrics import r2_score\n",
    "from sklearn.model_selection import train_test_split, cross_val_score, GridSearchCV\n",
    "from sklearn.feature_selection import SelectKBest, f_regression, RFE\n"
   ]
  },
  {
   "cell_type": "code",
   "execution_count": 2,
   "metadata": {},
   "outputs": [],
   "source": [
    "# loading datasets\n",
    "train = pd.read_csv('./train.csv')\n",
    "test = pd.read_csv('./test.csv')"
   ]
  },
  {
   "cell_type": "code",
   "execution_count": 3,
   "metadata": {},
   "outputs": [],
   "source": [
    "# cleaning dataset\n",
    "# get numerical columns\n",
    "\n",
    "# drop unnecessary columns 'Id', 'PID'\n",
    "# drop target column 'SalePrice'\n",
    "numerical_features = list(train._get_numeric_data().drop(['Id', 'PID', 'SalePrice'], axis=1))\n",
    "features = numerical_features\n",
    "\n",
    "# replace missing numerical values with -999\n",
    "for feature in numerical_features:\n",
    "    train[feature] = train[feature].fillna(-999)\n",
    "    test[feature] = test[feature].fillna(-999)\n",
    "    \n",
    "# get categorical columns\n",
    "categorical_features = list(train.select_dtypes(include='object').columns)\n",
    "\n",
    "for col in categorical_features:\n",
    "    # replace missing columns with 'N/A'\n",
    "    train[col] = train[col].fillna('N/A')\n",
    "    test[col] = test[col].fillna('N/A')\n",
    "    \n",
    "    # get unique columns names and sort\n",
    "    train_values = sorted(list(train[col].unique()))\n",
    "    test_values = sorted(list(test[col].unique()))\n",
    "    \n",
    "    categories = set(train_values + test_values)\n",
    "    \n",
    "    # create new dataframe (Represents a categorical variable)\n",
    "    train[col] = pd.Categorical(train[col], categories=categories)\n",
    "    test[col] = pd.Categorical(test[col], categories=categories)\n",
    "\n",
    "# dummy categories\n",
    "train_dummies = pd.get_dummies(train[categorical_features], drop_first=True)\n",
    "test_dummies = pd.get_dummies(test[categorical_features], drop_first=True)\n",
    "\n",
    "# create cleaned datasets\n",
    "X_train = pd.concat([train_dummies, train[numerical_features]], axis=1)\n",
    "X_test = pd.concat([test_dummies, test[numerical_features]], axis=1)\n",
    "y = train['SalePrice']"
   ]
  },
  {
   "cell_type": "code",
   "execution_count": 4,
   "metadata": {},
   "outputs": [],
   "source": [
    "# train/test split 8:2\n",
    "X_train_split, X_test_split, y_train_split, y_test_split = train_test_split(X_train, y, test_size=0.2, random_state=42)"
   ]
  },
  {
   "cell_type": "code",
   "execution_count": 5,
   "metadata": {},
   "outputs": [
    {
     "data": {
      "text/plain": [
       "((1640, 272), (411, 272), (1640,))"
      ]
     },
     "execution_count": 5,
     "metadata": {},
     "output_type": "execute_result"
    }
   ],
   "source": [
    "X_train_split.shape, X_test_split.shape, y_train_split.shape"
   ]
  },
  {
   "cell_type": "code",
   "execution_count": 6,
   "metadata": {},
   "outputs": [],
   "source": [
    "param_grid = { \n",
    "    'n_estimators': [500, 1000, 1500],\n",
    "    'max_depth' : [10, 15, 20],\n",
    "    'criterion' : ['mse', 'mae']\n",
    "}\n",
    "rfc = RandomForestRegressor(random_state=42) \n",
    "CV_rfc = GridSearchCV(estimator=rfc, param_grid=param_grid, cv=5)"
   ]
  },
  {
   "cell_type": "code",
   "execution_count": 7,
   "metadata": {},
   "outputs": [
    {
     "data": {
      "text/plain": [
       "GridSearchCV(cv=5, error_score='raise',\n",
       "       estimator=RandomForestRegressor(bootstrap=True, criterion='mse', max_depth=None,\n",
       "           max_features='auto', max_leaf_nodes=None,\n",
       "           min_impurity_decrease=0.0, min_impurity_split=None,\n",
       "           min_samples_leaf=1, min_samples_split=2,\n",
       "           min_weight_fraction_leaf=0.0, n_estimators=10, n_jobs=1,\n",
       "           oob_score=False, random_state=42, verbose=0, warm_start=False),\n",
       "       fit_params=None, iid=True, n_jobs=1,\n",
       "       param_grid={'n_estimators': [500, 1000, 1500], 'max_depth': [10, 15, 20], 'criterion': ['mse', 'mae']},\n",
       "       pre_dispatch='2*n_jobs', refit=True, return_train_score='warn',\n",
       "       scoring=None, verbose=0)"
      ]
     },
     "execution_count": 7,
     "metadata": {},
     "output_type": "execute_result"
    }
   ],
   "source": [
    "CV_rfc.fit(X_train_split, y_train_split)"
   ]
  },
  {
   "cell_type": "code",
   "execution_count": 11,
   "metadata": {},
   "outputs": [
    {
     "name": "stdout",
     "output_type": "stream",
     "text": [
      "{'criterion': 'mse', 'max_depth': 20, 'n_estimators': 500}\n"
     ]
    },
    {
     "data": {
      "text/plain": [
       "RandomForestRegressor(bootstrap=True, criterion='mse', max_depth=20,\n",
       "           max_features='auto', max_leaf_nodes=None,\n",
       "           min_impurity_decrease=0.0, min_impurity_split=None,\n",
       "           min_samples_leaf=1, min_samples_split=2,\n",
       "           min_weight_fraction_leaf=0.0, n_estimators=500, n_jobs=1,\n",
       "           oob_score=False, random_state=42, verbose=0, warm_start=False)"
      ]
     },
     "execution_count": 11,
     "metadata": {},
     "output_type": "execute_result"
    }
   ],
   "source": [
    "print(CV_rfc.best_params_)\n",
    "rf_model = RandomForestRegressor(random_state=42, criterion='mse', max_depth=20, n_estimators=500)\n",
    "rf_model.fit(X_train_split, y_train_split)"
   ]
  },
  {
   "cell_type": "code",
   "execution_count": 12,
   "metadata": {},
   "outputs": [],
   "source": [
    "# create a .csv\n",
    "price = rf_model.predict(X_test)\n",
    "ids = test['Id']\n",
    "df = pd.DataFrame({'Id': ids, 'SalePrice':price}) \n",
    "df.sort_values('Id', inplace=True)\n",
    "df.to_csv('./test_submission.csv', index=False)"
   ]
  },
  {
   "cell_type": "code",
   "execution_count": null,
   "metadata": {},
   "outputs": [],
   "source": []
  }
 ],
 "metadata": {
  "kernelspec": {
   "display_name": "Python 3",
   "language": "python",
   "name": "python3"
  },
  "language_info": {
   "codemirror_mode": {
    "name": "ipython",
    "version": 3
   },
   "file_extension": ".py",
   "mimetype": "text/x-python",
   "name": "python",
   "nbconvert_exporter": "python",
   "pygments_lexer": "ipython3",
   "version": "3.6.5"
  }
 },
 "nbformat": 4,
 "nbformat_minor": 2
}
